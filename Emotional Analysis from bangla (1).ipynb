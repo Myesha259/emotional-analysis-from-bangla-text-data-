{
 "cells": [
  {
   "cell_type": "code",
   "execution_count": 1,
   "id": "ddc09f94-7b9f-4982-b284-c9213d30c4b1",
   "metadata": {},
   "outputs": [],
   "source": [
    "import pandas as pd\n",
    "import matplotlib.pyplot as plt"
   ]
  },
  {
   "cell_type": "code",
   "execution_count": 2,
   "id": "ed819f63-646e-4757-a7eb-f781550eb392",
   "metadata": {
    "tags": []
   },
   "outputs": [],
   "source": [
    "data = pd.read_csv('ThesisDataSet.txt',delimiter = '\\t')\n",
    "data = data[:7600]\n",
    "data = data['sentences']"
   ]
  },
  {
   "cell_type": "code",
   "execution_count": 3,
   "id": "1d18b00f-00d8-460e-ad8c-6c1be2975a9b",
   "metadata": {
    "tags": []
   },
   "outputs": [
    {
     "data": {
      "text/plain": [
       "{'sad': 696,\n",
       " 'happy': 1069,\n",
       " 'angry': 698,\n",
       " 'surprise': 364,\n",
       " 'disgust': 346,\n",
       " 'fear': 237}"
      ]
     },
     "execution_count": 3,
     "metadata": {},
     "output_type": "execute_result"
    }
   ],
   "source": [
    "total_sentences = len(data)\n",
    "sentences = {'sad':0,\n",
    "             'happy':0,\n",
    "             'angry':0,\n",
    "             'surprise':0,\n",
    "             'disgust':0,\n",
    "             'fear':0}\n",
    "for sentence in data:\n",
    "    sentences[sentence.split()[0].lower()]+= 1\n",
    "sentences"
   ]
  },
  {
   "cell_type": "code",
   "execution_count": 4,
   "id": "abc50c09-6d3d-480b-bcc4-609207f02f52",
   "metadata": {},
   "outputs": [],
   "source": [
    "word_pool = {'sad':[],\n",
    "             'happy':[],\n",
    "             'angry':[],\n",
    "             'surprise':[],\n",
    "             'disgust':[],\n",
    "             'fear':[]}"
   ]
  },
  {
   "cell_type": "code",
   "execution_count": 5,
   "id": "1fbf4cc4-9437-4b30-8364-0c0dc6f055c0",
   "metadata": {},
   "outputs": [],
   "source": [
    "for sentence in data:\n",
    "    splitted = sentence.split()\n",
    "    for k in range(1,len(splitted)):\n",
    "        word_pool[splitted[0].lower()].append(splitted[k])"
   ]
  },
  {
   "cell_type": "code",
   "execution_count": 6,
   "id": "cdc24ab6-3cfa-4f1c-ba8c-5ecdcd35c756",
   "metadata": {},
   "outputs": [],
   "source": [
    "all_words = []\n",
    "for emotion in word_pool:\n",
    "    for word in word_pool[emotion]:\n",
    "        all_words.append(word)"
   ]
  },
  {
   "cell_type": "code",
   "execution_count": 7,
   "id": "bdb892d1-7614-475b-96ee-3f49fb6ef427",
   "metadata": {},
   "outputs": [
    {
     "data": {
      "text/plain": [
       "17272"
      ]
     },
     "execution_count": 7,
     "metadata": {},
     "output_type": "execute_result"
    }
   ],
   "source": [
    "all_distinct_words = set(all_words)\n",
    "len(all_distinct_words)"
   ]
  },
  {
   "cell_type": "raw",
   "id": "ee69a828-8f16-49a4-8fe6-cfdf009f260e",
   "metadata": {},
   "source": [
    "words = dict()\n",
    "for word in all_distinct_words:\n",
    "    words[word] = [.00001 for k in range(7)]"
   ]
  },
  {
   "cell_type": "raw",
   "id": "a3b8a530-367b-4baf-9b54-23b5d8c42360",
   "metadata": {},
   "source": [
    "for word in all_distinct_words:\n",
    "    k = 0\n",
    "    for emotion in word_pool:\n",
    "        total = all_words.count(word)\n",
    "        words[word][k] = word_pool[emotion].count(word)/total\n",
    "        k += 1\n",
    "    words[word][k] = total/total_sentences"
   ]
  },
  {
   "cell_type": "code",
   "execution_count": 8,
   "id": "653f1283-f676-4c13-b03f-ff61398a7f38",
   "metadata": {},
   "outputs": [],
   "source": [
    "def prepare_dictionary(sentence):\n",
    "    words_from_sentence = sentence.split()\n",
    "    probabilty = dict()\n",
    "    for word in words_from_sentence:\n",
    "        probabilty[word] = [.0000001 for k in range(7)]\n",
    "    for word in words_from_sentence:\n",
    "        k = 0\n",
    "        for emotion in word_pool:\n",
    "            total = all_words.count(word)\n",
    "            tw = word_pool[emotion].count(word)\n",
    "            if not tw == 0:\n",
    "                probabilty[word][k] = tw/total\n",
    "            k += 1\n",
    "        probabilty[word][k] = total/total_sentences\n",
    "    return probabilty"
   ]
  },
  {
   "cell_type": "code",
   "execution_count": 9,
   "id": "648eea7f-4825-4947-90c1-26afd740de36",
   "metadata": {},
   "outputs": [
    {
     "data": {
      "text/plain": [
       "{'দেশকি': [1e-07, 1e-07, 1.0, 1e-07, 1e-07, 1e-07, 0.0002932551319648094],\n",
       " 'মধ্যম': [1e-07, 1e-07, 1.0, 1e-07, 1e-07, 1e-07, 0.0005865102639296188],\n",
       " 'আয়ের': [1e-07, 1e-07, 1.0, 1e-07, 1e-07, 1e-07, 0.0002932551319648094],\n",
       " 'দেশে': [0.37579617834394907,\n",
       "  0.16560509554140126,\n",
       "  0.20382165605095542,\n",
       "  0.10191082802547771,\n",
       "  0.08917197452229299,\n",
       "  0.06369426751592357,\n",
       "  0.046041055718475075],\n",
       " 'রুপান্তর': [1e-07, 1e-07, 1.0, 1e-07, 1e-07, 1e-07, 0.0002932551319648094],\n",
       " 'হচ্ছে': [0.30120481927710846,\n",
       "  0.18072289156626506,\n",
       "  0.12048192771084337,\n",
       "  0.13253012048192772,\n",
       "  0.18072289156626506,\n",
       "  0.08433734939759036,\n",
       "  0.02434017595307918],\n",
       " 'নাকি': [0.11764705882352941,\n",
       "  0.058823529411764705,\n",
       "  0.38235294117647056,\n",
       "  0.19117647058823528,\n",
       "  0.20588235294117646,\n",
       "  0.04411764705882353,\n",
       "  0.01994134897360704],\n",
       " 'মগের': [1e-07,\n",
       "  1e-07,\n",
       "  0.6666666666666666,\n",
       "  1e-07,\n",
       "  0.3333333333333333,\n",
       "  1e-07,\n",
       "  0.0008797653958944282],\n",
       " 'মুলুকের': [1e-07, 1e-07, 1.0, 1e-07, 1e-07, 1e-07, 0.0002932551319648094],\n",
       " 'পরিনত': [0.4, 1e-07, 0.4, 0.2, 1e-07, 1e-07, 0.001466275659824047],\n",
       " 'হচ্ছে?': [1e-07, 1e-07, 0.25, 0.5, 1e-07, 0.25, 0.0011730205278592375]}"
      ]
     },
     "execution_count": 9,
     "metadata": {},
     "output_type": "execute_result"
    }
   ],
   "source": [
    "prepare_dictionary('দেশকি মধ্যম আয়ের দেশে রুপান্তর হচ্ছে নাকি মগের মুলুকের দেশে পরিনত হচ্ছে?')"
   ]
  },
  {
   "cell_type": "code",
   "execution_count": 10,
   "id": "2f6ec4e5-ce9b-4cf0-8408-e94c5ea44617",
   "metadata": {},
   "outputs": [],
   "source": [
    "def count_probabilityNB(sentence):\n",
    "    probability = prepare_dictionary(sentence)\n",
    "    prob = [1 for _ in range(6)]\n",
    "    for k in range(6):\n",
    "        for word in sentence.split():\n",
    "            if not word in all_words:\n",
    "                prob[k] *= 1\n",
    "            else:\n",
    "                prob[k] *= probability[word][k]*probability[word][-1]\n",
    "    return prob"
   ]
  },
  {
   "cell_type": "code",
   "execution_count": 11,
   "id": "9ee606ac-347b-43e6-a9c5-078ef1f52f2d",
   "metadata": {},
   "outputs": [
    {
     "data": {
      "text/plain": [
       "[1.0126067289095177e-42,\n",
       " 1.8501069155531636e-43,\n",
       " 2.8976033837717627e-44,\n",
       " 7.758835820095785e-31,\n",
       " 1.0454155269986483e-44,\n",
       " 1.656608780656294e-64]"
      ]
     },
     "execution_count": 11,
     "metadata": {},
     "output_type": "execute_result"
    }
   ],
   "source": [
    "count_probabilityNB('এবার লোকসমাগম খুব কম হয়েছে যা প্রশ্নই থেকে যায় কেন ?')"
   ]
  },
  {
   "cell_type": "code",
   "execution_count": 12,
   "id": "cfaae591-325f-46c6-99fc-c0812e67ede7",
   "metadata": {},
   "outputs": [
    {
     "data": {
      "text/plain": [
       "<BarContainer object of 6 artists>"
      ]
     },
     "execution_count": 12,
     "metadata": {},
     "output_type": "execute_result"
    },
    {
     "data": {
      "image/png": "[encoded data removed]",
      "text/plain": [
       "<Figure size 432x288 with 1 Axes>"
      ]
     },
     "metadata": {
      "needs_background": "light"
     },
     "output_type": "display_data"
    }
   ],
   "source": [
    "plt.bar(['sad','happy','angry','surprise','disgust','fear'],count_probabilityNB('এবার লোকসমাগম খুব কম হয়েছে যা প্রশ্নই থেকে যায় কেন ?'))"
   ]
  },
  {
   "cell_type": "code",
   "execution_count": 13,
   "id": "7e070f74-7b92-479d-be3d-646648a227ba",
   "metadata": {},
   "outputs": [
    {
     "data": {
      "text/plain": [
       "<BarContainer object of 6 artists>"
      ]
     },
     "execution_count": 13,
     "metadata": {},
     "output_type": "execute_result"
    },
    {
     "data": {
      "image/png": "[encoded data removed]",
      "text/plain": [
       "<Figure size 432x288 with 1 Axes>"
      ]
     },
     "metadata": {
      "needs_background": "light"
     },
     "output_type": "display_data"
    }
   ],
   "source": [
    "plt.bar(['sad','happy','angry','surprise','disgust','fear'],count_probabilityNB('আমি গর্বিত আমি মুসলিম। আমি সংগ্রামী। আমি যোদ্ধা। আমি চির রণবীর। আমি আল্লাহ ছারা কারও কাছে নিচু করি না আমার শির। নারায়ে তাকবির আল্লাহু আকবর।'))"
   ]
  },
  {
   "cell_type": "code",
   "execution_count": 14,
   "id": "0bad66a1-8b12-4821-bd4b-314c4055c073",
   "metadata": {},
   "outputs": [
    {
     "data": {
      "text/plain": [
       "<BarContainer object of 6 artists>"
      ]
     },
     "execution_count": 14,
     "metadata": {},
     "output_type": "execute_result"
    },
    {
     "data": {
      "image/png": "[encoded data removed]",
      "text/plain": [
       "<Figure size 432x288 with 1 Axes>"
      ]
     },
     "metadata": {
      "needs_background": "light"
     },
     "output_type": "display_data"
    }
   ],
   "source": [
    "plt.bar(['sad','happy','angry','surprise','disgust','fear'],count_probabilityNB('নাস্তিকরা কমতেছে তো'))"
   ]
  },
  {
   "cell_type": "code",
   "execution_count": 15,
   "id": "a271dc26-715b-4572-9723-a9d0177e0511",
   "metadata": {},
   "outputs": [
    {
     "data": {
      "text/plain": [
       "<BarContainer object of 6 artists>"
      ]
     },
     "execution_count": 15,
     "metadata": {},
     "output_type": "execute_result"
    },
    {
     "data": {
      "image/png": "[encoded data removed]",
      "text/plain": [
       "<Figure size 432x288 with 1 Axes>"
      ]
     },
     "metadata": {
      "needs_background": "light"
     },
     "output_type": "display_data"
    }
   ],
   "source": [
    "plt.bar(['sad','happy','angry','surprise','disgust','fear'],count_probabilityNB('বহু বছরের পুরনো স্মৃতি মনে পারছে,'))"
   ]
  },
  {
   "cell_type": "code",
   "execution_count": 16,
   "id": "6f440251-5bba-4af2-b7b9-c3f7369be23f",
   "metadata": {},
   "outputs": [
    {
     "data": {
      "text/plain": [
       "<BarContainer object of 6 artists>"
      ]
     },
     "execution_count": 16,
     "metadata": {},
     "output_type": "execute_result"
    },
    {
     "data": {
      "image/png": "[encoded data removed]",
      "text/plain": [
       "<Figure size 432x288 with 1 Axes>"
      ]
     },
     "metadata": {
      "needs_background": "light"
     },
     "output_type": "display_data"
    }
   ],
   "source": [
    "plt.bar(['sad','happy','angry','surprise','disgust','fear'],count_probabilityNB('ওটা আপনার লোকেরাই করছে।'))"
   ]
  },
  {
   "cell_type": "code",
   "execution_count": 17,
   "id": "6e99175e-af85-4f02-9fe3-5e53de858bf0",
   "metadata": {},
   "outputs": [
    {
     "data": {
      "text/plain": [
       "<BarContainer object of 6 artists>"
      ]
     },
     "execution_count": 17,
     "metadata": {},
     "output_type": "execute_result"
    },
    {
     "data": {
      "image/png": "[encoded data removed]",
      "text/plain": [
       "<Figure size 432x288 with 1 Axes>"
      ]
     },
     "metadata": {
      "needs_background": "light"
     },
     "output_type": "display_data"
    }
   ],
   "source": [
    "plt.bar(['sad','happy','angry','surprise','disgust','fear'],count_probabilityNB( 'আমি কস্ট পেয়েছি'))"
   ]
  },
  {
   "cell_type": "code",
   "execution_count": 18,
   "id": "58e0aefa-729a-4677-b44c-50ff09cfe6c1",
   "metadata": {},
   "outputs": [
    {
     "data": {
      "text/plain": [
       "<BarContainer object of 6 artists>"
      ]
     },
     "execution_count": 18,
     "metadata": {},
     "output_type": "execute_result"
    },
    {
     "data": {
      "image/png": "[encoded data removed]",
      "text/plain": [
       "<Figure size 432x288 with 1 Axes>"
      ]
     },
     "metadata": {
      "needs_background": "light"
     },
     "output_type": "display_data"
    }
   ],
   "source": [
    "plt.bar(['sad','happy','angry','surprise','disgust','fear'],count_probabilityNB( 'বাবা তোমার দরবারে সব পাগলের খেলা'))"
   ]
  },
  {
   "cell_type": "code",
   "execution_count": 19,
   "id": "2a240f00-3cb6-4b64-9a0c-98f3e51bf014",
   "metadata": {},
   "outputs": [
    {
     "data": {
      "text/plain": [
       "<BarContainer object of 6 artists>"
      ]
     },
     "execution_count": 19,
     "metadata": {},
     "output_type": "execute_result"
    },
    {
     "data": {
      "image/png": "[encoded data removed]",
      "text/plain": [
       "<Figure size 432x288 with 1 Axes>"
      ]
     },
     "metadata": {
      "needs_background": "light"
     },
     "output_type": "display_data"
    }
   ],
   "source": [
    "plt.bar(['sad','happy','angry','surprise','disgust','fear'],count_probabilityNB( 'আমি ভাত খাই'))\n"
   ]
  },
  {
   "cell_type": "code",
   "execution_count": 20,
   "id": "b93fe504-7a67-4042-84bc-48dabf780432",
   "metadata": {},
   "outputs": [
    {
     "data": {
      "text/plain": [
       "<BarContainer object of 6 artists>"
      ]
     },
     "execution_count": 20,
     "metadata": {},
     "output_type": "execute_result"
    },
    {
     "data": {
      "image/png": "[encoded data removed]",
      "text/plain": [
       "<Figure size 432x288 with 1 Axes>"
      ]
     },
     "metadata": {
      "needs_background": "light"
     },
     "output_type": "display_data"
    }
   ],
   "source": [
    "plt.bar(['sad','happy','angry','surprise','disgust','fear'],count_probabilityNB( 'তুমি এমন কেনো ?'))"
   ]
  },
  {
   "cell_type": "code",
   "execution_count": 21,
   "id": "5b2c5fda-02d1-4b73-ab88-b301af3eb7b9",
   "metadata": {},
   "outputs": [
    {
     "data": {
      "text/plain": [
       "<BarContainer object of 6 artists>"
      ]
     },
     "execution_count": 21,
     "metadata": {},
     "output_type": "execute_result"
    },
    {
     "data": {
      "image/png": "[encoded data removed]",
      "text/plain": [
       "<Figure size 432x288 with 1 Axes>"
      ]
     },
     "metadata": {
      "needs_background": "light"
     },
     "output_type": "display_data"
    }
   ],
   "source": [
    "plt.bar(['sad','happy','angry','surprise','disgust','fear'],count_probabilityNB( 'করোনা মহামারির কঠিন সময় কাটিয়ে উঠতে জোরালো বৈশ্বিক সহযোগিতার ওপর গুরুত্বারোপ করেছেন প্রধানমন্ত্রী শেখ হাসিনা। একই সঙ্গে তিনি ব্যবসা-বাণিজ্য ও বিনিয়োগ সম্প্রসারণের মাধ্যমে কোভিড-১৯ মহামারির বৈশ্বিক চ্যালেঞ্জ মোকাবিলা করতে জরুরি ভিত্তিতে সম্মিলিত পদক্ষেপ নেওয়ার আহ্বান জানান।'))"
   ]
  },
  {
   "cell_type": "code",
   "execution_count": 22,
   "id": "17f20ea4-ef4c-4bec-b6f7-9e18b4fcdaf5",
   "metadata": {},
   "outputs": [
    {
     "data": {
      "text/plain": [
       "<BarContainer object of 6 artists>"
      ]
     },
     "execution_count": 22,
     "metadata": {},
     "output_type": "execute_result"
    },
    {
     "data": {
      "image/png": "[encoded data removed]",
      "text/plain": [
       "<Figure size 432x288 with 1 Axes>"
      ]
     },
     "metadata": {
      "needs_background": "light"
     },
     "output_type": "display_data"
    }
   ],
   "source": [
    "plt.bar(['sad','happy','angry','surprise','disgust','fear'],count_probabilityNB( 'গত এক দশকে বাংলাদেশ ৬ শতাংশের বেশি টেকসই প্রবৃদ্ধি অর্জন করেছে জানিয়ে শেখ হাসিনা বলেন, আমরা এলডিসি থেকে উত্তোরণের চূড়ান্ত সুপারিশ লাভ করেছি কোভিড-১৯ মহামারির সঙ্গে লড়াই করার সময়। আমরা জীবন ও জীবিকার মধ্যে একটি ভারসাম্য তৈরি করার চেষ্টা করছি। আমাদের সরকার এ পর্যন্ত ১৫.১ বিলিয়ন মার্কিন ডলার পরিমাণের বিভিন্ন প্রণোদনা প্যাকেজ ঘোষণা করেছে। মহামারি সত্ত্বেও, আমাদের জিডিপি প্রবৃদ্ধি ২০২০-২০১২ সালে ৬.১ শতাংশে পৌঁছেছে '))"
   ]
  },
  {
   "cell_type": "code",
   "execution_count": null,
   "id": "0543e6d2-cfc7-4f98-a3c1-418054f2a1b9",
   "metadata": {},
   "outputs": [],
   "source": []
  }
 ],
 "metadata": {
  "kernelspec": {
   "display_name": "Python 3",
   "language": "python",
   "name": "python3"
  },
  "language_info": {
   "codemirror_mode": {
    "name": "ipython",
    "version": 3
   },
   "file_extension": ".py",
   "mimetype": "text/x-python",
   "name": "python",
   "nbconvert_exporter": "python",
   "pygments_lexer": "ipython3",
   "version": "3.8.8"
  }
 },
 "nbformat": 4,
 "nbformat_minor": 5
}
